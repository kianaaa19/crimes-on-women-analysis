{
  "nbformat": 4,
  "nbformat_minor": 0,
  "metadata": {
    "colab": {
      "provenance": [],
      "gpuType": "T4"
    },
    "kernelspec": {
      "name": "python3",
      "display_name": "Python 3"
    },
    "language_info": {
      "name": "python"
    },
    "accelerator": "GPU"
  },
  "cells": [
    {
      "cell_type": "markdown",
      "source": [
        "# **1. Import Library**"
      ],
      "metadata": {
        "id": "fKADPWcFKlj3"
      }
    },
    {
      "cell_type": "markdown",
      "source": [
        "Pada tahap ini, Anda perlu mengimpor beberapa pustaka (library) Python yang dibutuhkan untuk analisis data dan pembangunan model machine learning."
      ],
      "metadata": {
        "id": "LgA3ERnVn84N"
      }
    },
    {
      "cell_type": "code",
      "source": [
        "!pip install scikit-optimize"
      ],
      "metadata": {
        "colab": {
          "base_uri": "https://localhost:8080/"
        },
        "id": "clZwx26FCnz7",
        "outputId": "e9d01ec7-804d-4afe-9168-98d360a10484"
      },
      "execution_count": 1,
      "outputs": [
        {
          "output_type": "stream",
          "name": "stdout",
          "text": [
            "Collecting scikit-optimize\n",
            "  Downloading scikit_optimize-0.10.2-py2.py3-none-any.whl.metadata (9.7 kB)\n",
            "Requirement already satisfied: joblib>=0.11 in /usr/local/lib/python3.10/dist-packages (from scikit-optimize) (1.4.2)\n",
            "Collecting pyaml>=16.9 (from scikit-optimize)\n",
            "  Downloading pyaml-24.9.0-py3-none-any.whl.metadata (11 kB)\n",
            "Requirement already satisfied: numpy>=1.20.3 in /usr/local/lib/python3.10/dist-packages (from scikit-optimize) (1.26.4)\n",
            "Requirement already satisfied: scipy>=1.1.0 in /usr/local/lib/python3.10/dist-packages (from scikit-optimize) (1.13.1)\n",
            "Requirement already satisfied: scikit-learn>=1.0.0 in /usr/local/lib/python3.10/dist-packages (from scikit-optimize) (1.5.2)\n",
            "Requirement already satisfied: packaging>=21.3 in /usr/local/lib/python3.10/dist-packages (from scikit-optimize) (24.1)\n",
            "Requirement already satisfied: PyYAML in /usr/local/lib/python3.10/dist-packages (from pyaml>=16.9->scikit-optimize) (6.0.2)\n",
            "Requirement already satisfied: threadpoolctl>=3.1.0 in /usr/local/lib/python3.10/dist-packages (from scikit-learn>=1.0.0->scikit-optimize) (3.5.0)\n",
            "Downloading scikit_optimize-0.10.2-py2.py3-none-any.whl (107 kB)\n",
            "\u001b[2K   \u001b[90m━━━━━━━━━━━━━━━━━━━━━━━━━━━━━━━━━━━━━━━━\u001b[0m \u001b[32m107.8/107.8 kB\u001b[0m \u001b[31m4.7 MB/s\u001b[0m eta \u001b[36m0:00:00\u001b[0m\n",
            "\u001b[?25hDownloading pyaml-24.9.0-py3-none-any.whl (24 kB)\n",
            "Installing collected packages: pyaml, scikit-optimize\n",
            "Successfully installed pyaml-24.9.0 scikit-optimize-0.10.2\n"
          ]
        }
      ]
    },
    {
      "cell_type": "code",
      "source": [
        "import pandas as pd\n",
        "import numpy as np\n",
        "import seaborn as sns\n",
        "import matplotlib.pyplot as plt\n",
        "from sklearn.metrics import confusion_matrix\n",
        "from skopt import BayesSearchCV\n",
        "from sklearn.model_selection import train_test_split\n",
        "from sklearn.preprocessing import LabelEncoder, StandardScaler, MinMaxScaler\n",
        "from sklearn.neighbors import KNeighborsClassifier\n",
        "from sklearn.tree import DecisionTreeClassifier\n",
        "from sklearn.ensemble import RandomForestClassifier\n",
        "from sklearn.svm import SVC\n",
        "from sklearn.naive_bayes import GaussianNB\n",
        "from sklearn.metrics import confusion_matrix, accuracy_score, precision_score, recall_score, f1_score"
      ],
      "metadata": {
        "id": "BlmvjLY9M4Yj"
      },
      "execution_count": 2,
      "outputs": []
    },
    {
      "cell_type": "markdown",
      "source": [
        "# **2. Memuat Dataset dari Hasil Clustering**"
      ],
      "metadata": {
        "id": "f3YIEnAFKrKL"
      }
    },
    {
      "cell_type": "markdown",
      "source": [
        "Memuat dataset hasil clustering dari file CSV ke dalam variabel DataFrame."
      ],
      "metadata": {
        "id": "Ey3ItwTen_7E"
      }
    },
    {
      "cell_type": "code",
      "source": [
        "data = pd.read_csv('data_clustering.csv')"
      ],
      "metadata": {
        "id": "GHCGNTyrM5fS"
      },
      "execution_count": 3,
      "outputs": []
    },
    {
      "cell_type": "code",
      "source": [
        "data.head()"
      ],
      "metadata": {
        "colab": {
          "base_uri": "https://localhost:8080/",
          "height": 206
        },
        "id": "8A0JiRHR8g1A",
        "outputId": "b55b0076-b5c1-4fab-ee1f-26c3450b1164"
      },
      "execution_count": 4,
      "outputs": [
        {
          "output_type": "execute_result",
          "data": {
            "text/plain": [
              "        K&A        DD       AoW       AoM        DV   WT  Cluster\n",
              "0  0.003576  0.000000  0.005251  0.000318  0.000473  0.0        0\n",
              "1  0.069566  0.023376  0.057227  0.000425  0.053613  0.0        0\n",
              "2  0.011118  0.027734  0.118697  0.017088  0.036086  0.0        0\n",
              "3  0.000390  0.000792  0.001145  0.000743  0.000473  0.0        0\n",
              "4  0.055718  0.026545  0.050899  0.011781  0.157531  0.0        0"
            ],
            "text/html": [
              "\n",
              "  <div id=\"df-14a6f4f3-9508-4771-8f2c-37192d130a42\" class=\"colab-df-container\">\n",
              "    <div>\n",
              "<style scoped>\n",
              "    .dataframe tbody tr th:only-of-type {\n",
              "        vertical-align: middle;\n",
              "    }\n",
              "\n",
              "    .dataframe tbody tr th {\n",
              "        vertical-align: top;\n",
              "    }\n",
              "\n",
              "    .dataframe thead th {\n",
              "        text-align: right;\n",
              "    }\n",
              "</style>\n",
              "<table border=\"1\" class=\"dataframe\">\n",
              "  <thead>\n",
              "    <tr style=\"text-align: right;\">\n",
              "      <th></th>\n",
              "      <th>K&amp;A</th>\n",
              "      <th>DD</th>\n",
              "      <th>AoW</th>\n",
              "      <th>AoM</th>\n",
              "      <th>DV</th>\n",
              "      <th>WT</th>\n",
              "      <th>Cluster</th>\n",
              "    </tr>\n",
              "  </thead>\n",
              "  <tbody>\n",
              "    <tr>\n",
              "      <th>0</th>\n",
              "      <td>0.003576</td>\n",
              "      <td>0.000000</td>\n",
              "      <td>0.005251</td>\n",
              "      <td>0.000318</td>\n",
              "      <td>0.000473</td>\n",
              "      <td>0.0</td>\n",
              "      <td>0</td>\n",
              "    </tr>\n",
              "    <tr>\n",
              "      <th>1</th>\n",
              "      <td>0.069566</td>\n",
              "      <td>0.023376</td>\n",
              "      <td>0.057227</td>\n",
              "      <td>0.000425</td>\n",
              "      <td>0.053613</td>\n",
              "      <td>0.0</td>\n",
              "      <td>0</td>\n",
              "    </tr>\n",
              "    <tr>\n",
              "      <th>2</th>\n",
              "      <td>0.011118</td>\n",
              "      <td>0.027734</td>\n",
              "      <td>0.118697</td>\n",
              "      <td>0.017088</td>\n",
              "      <td>0.036086</td>\n",
              "      <td>0.0</td>\n",
              "      <td>0</td>\n",
              "    </tr>\n",
              "    <tr>\n",
              "      <th>3</th>\n",
              "      <td>0.000390</td>\n",
              "      <td>0.000792</td>\n",
              "      <td>0.001145</td>\n",
              "      <td>0.000743</td>\n",
              "      <td>0.000473</td>\n",
              "      <td>0.0</td>\n",
              "      <td>0</td>\n",
              "    </tr>\n",
              "    <tr>\n",
              "      <th>4</th>\n",
              "      <td>0.055718</td>\n",
              "      <td>0.026545</td>\n",
              "      <td>0.050899</td>\n",
              "      <td>0.011781</td>\n",
              "      <td>0.157531</td>\n",
              "      <td>0.0</td>\n",
              "      <td>0</td>\n",
              "    </tr>\n",
              "  </tbody>\n",
              "</table>\n",
              "</div>\n",
              "    <div class=\"colab-df-buttons\">\n",
              "\n",
              "  <div class=\"colab-df-container\">\n",
              "    <button class=\"colab-df-convert\" onclick=\"convertToInteractive('df-14a6f4f3-9508-4771-8f2c-37192d130a42')\"\n",
              "            title=\"Convert this dataframe to an interactive table.\"\n",
              "            style=\"display:none;\">\n",
              "\n",
              "  <svg xmlns=\"http://www.w3.org/2000/svg\" height=\"24px\" viewBox=\"0 -960 960 960\">\n",
              "    <path d=\"M120-120v-720h720v720H120Zm60-500h600v-160H180v160Zm220 220h160v-160H400v160Zm0 220h160v-160H400v160ZM180-400h160v-160H180v160Zm440 0h160v-160H620v160ZM180-180h160v-160H180v160Zm440 0h160v-160H620v160Z\"/>\n",
              "  </svg>\n",
              "    </button>\n",
              "\n",
              "  <style>\n",
              "    .colab-df-container {\n",
              "      display:flex;\n",
              "      gap: 12px;\n",
              "    }\n",
              "\n",
              "    .colab-df-convert {\n",
              "      background-color: #E8F0FE;\n",
              "      border: none;\n",
              "      border-radius: 50%;\n",
              "      cursor: pointer;\n",
              "      display: none;\n",
              "      fill: #1967D2;\n",
              "      height: 32px;\n",
              "      padding: 0 0 0 0;\n",
              "      width: 32px;\n",
              "    }\n",
              "\n",
              "    .colab-df-convert:hover {\n",
              "      background-color: #E2EBFA;\n",
              "      box-shadow: 0px 1px 2px rgba(60, 64, 67, 0.3), 0px 1px 3px 1px rgba(60, 64, 67, 0.15);\n",
              "      fill: #174EA6;\n",
              "    }\n",
              "\n",
              "    .colab-df-buttons div {\n",
              "      margin-bottom: 4px;\n",
              "    }\n",
              "\n",
              "    [theme=dark] .colab-df-convert {\n",
              "      background-color: #3B4455;\n",
              "      fill: #D2E3FC;\n",
              "    }\n",
              "\n",
              "    [theme=dark] .colab-df-convert:hover {\n",
              "      background-color: #434B5C;\n",
              "      box-shadow: 0px 1px 3px 1px rgba(0, 0, 0, 0.15);\n",
              "      filter: drop-shadow(0px 1px 2px rgba(0, 0, 0, 0.3));\n",
              "      fill: #FFFFFF;\n",
              "    }\n",
              "  </style>\n",
              "\n",
              "    <script>\n",
              "      const buttonEl =\n",
              "        document.querySelector('#df-14a6f4f3-9508-4771-8f2c-37192d130a42 button.colab-df-convert');\n",
              "      buttonEl.style.display =\n",
              "        google.colab.kernel.accessAllowed ? 'block' : 'none';\n",
              "\n",
              "      async function convertToInteractive(key) {\n",
              "        const element = document.querySelector('#df-14a6f4f3-9508-4771-8f2c-37192d130a42');\n",
              "        const dataTable =\n",
              "          await google.colab.kernel.invokeFunction('convertToInteractive',\n",
              "                                                    [key], {});\n",
              "        if (!dataTable) return;\n",
              "\n",
              "        const docLinkHtml = 'Like what you see? Visit the ' +\n",
              "          '<a target=\"_blank\" href=https://colab.research.google.com/notebooks/data_table.ipynb>data table notebook</a>'\n",
              "          + ' to learn more about interactive tables.';\n",
              "        element.innerHTML = '';\n",
              "        dataTable['output_type'] = 'display_data';\n",
              "        await google.colab.output.renderOutput(dataTable, element);\n",
              "        const docLink = document.createElement('div');\n",
              "        docLink.innerHTML = docLinkHtml;\n",
              "        element.appendChild(docLink);\n",
              "      }\n",
              "    </script>\n",
              "  </div>\n",
              "\n",
              "\n",
              "<div id=\"df-3f0ef3c1-f9fa-4f81-a9c4-981c4dd124b0\">\n",
              "  <button class=\"colab-df-quickchart\" onclick=\"quickchart('df-3f0ef3c1-f9fa-4f81-a9c4-981c4dd124b0')\"\n",
              "            title=\"Suggest charts\"\n",
              "            style=\"display:none;\">\n",
              "\n",
              "<svg xmlns=\"http://www.w3.org/2000/svg\" height=\"24px\"viewBox=\"0 0 24 24\"\n",
              "     width=\"24px\">\n",
              "    <g>\n",
              "        <path d=\"M19 3H5c-1.1 0-2 .9-2 2v14c0 1.1.9 2 2 2h14c1.1 0 2-.9 2-2V5c0-1.1-.9-2-2-2zM9 17H7v-7h2v7zm4 0h-2V7h2v10zm4 0h-2v-4h2v4z\"/>\n",
              "    </g>\n",
              "</svg>\n",
              "  </button>\n",
              "\n",
              "<style>\n",
              "  .colab-df-quickchart {\n",
              "      --bg-color: #E8F0FE;\n",
              "      --fill-color: #1967D2;\n",
              "      --hover-bg-color: #E2EBFA;\n",
              "      --hover-fill-color: #174EA6;\n",
              "      --disabled-fill-color: #AAA;\n",
              "      --disabled-bg-color: #DDD;\n",
              "  }\n",
              "\n",
              "  [theme=dark] .colab-df-quickchart {\n",
              "      --bg-color: #3B4455;\n",
              "      --fill-color: #D2E3FC;\n",
              "      --hover-bg-color: #434B5C;\n",
              "      --hover-fill-color: #FFFFFF;\n",
              "      --disabled-bg-color: #3B4455;\n",
              "      --disabled-fill-color: #666;\n",
              "  }\n",
              "\n",
              "  .colab-df-quickchart {\n",
              "    background-color: var(--bg-color);\n",
              "    border: none;\n",
              "    border-radius: 50%;\n",
              "    cursor: pointer;\n",
              "    display: none;\n",
              "    fill: var(--fill-color);\n",
              "    height: 32px;\n",
              "    padding: 0;\n",
              "    width: 32px;\n",
              "  }\n",
              "\n",
              "  .colab-df-quickchart:hover {\n",
              "    background-color: var(--hover-bg-color);\n",
              "    box-shadow: 0 1px 2px rgba(60, 64, 67, 0.3), 0 1px 3px 1px rgba(60, 64, 67, 0.15);\n",
              "    fill: var(--button-hover-fill-color);\n",
              "  }\n",
              "\n",
              "  .colab-df-quickchart-complete:disabled,\n",
              "  .colab-df-quickchart-complete:disabled:hover {\n",
              "    background-color: var(--disabled-bg-color);\n",
              "    fill: var(--disabled-fill-color);\n",
              "    box-shadow: none;\n",
              "  }\n",
              "\n",
              "  .colab-df-spinner {\n",
              "    border: 2px solid var(--fill-color);\n",
              "    border-color: transparent;\n",
              "    border-bottom-color: var(--fill-color);\n",
              "    animation:\n",
              "      spin 1s steps(1) infinite;\n",
              "  }\n",
              "\n",
              "  @keyframes spin {\n",
              "    0% {\n",
              "      border-color: transparent;\n",
              "      border-bottom-color: var(--fill-color);\n",
              "      border-left-color: var(--fill-color);\n",
              "    }\n",
              "    20% {\n",
              "      border-color: transparent;\n",
              "      border-left-color: var(--fill-color);\n",
              "      border-top-color: var(--fill-color);\n",
              "    }\n",
              "    30% {\n",
              "      border-color: transparent;\n",
              "      border-left-color: var(--fill-color);\n",
              "      border-top-color: var(--fill-color);\n",
              "      border-right-color: var(--fill-color);\n",
              "    }\n",
              "    40% {\n",
              "      border-color: transparent;\n",
              "      border-right-color: var(--fill-color);\n",
              "      border-top-color: var(--fill-color);\n",
              "    }\n",
              "    60% {\n",
              "      border-color: transparent;\n",
              "      border-right-color: var(--fill-color);\n",
              "    }\n",
              "    80% {\n",
              "      border-color: transparent;\n",
              "      border-right-color: var(--fill-color);\n",
              "      border-bottom-color: var(--fill-color);\n",
              "    }\n",
              "    90% {\n",
              "      border-color: transparent;\n",
              "      border-bottom-color: var(--fill-color);\n",
              "    }\n",
              "  }\n",
              "</style>\n",
              "\n",
              "  <script>\n",
              "    async function quickchart(key) {\n",
              "      const quickchartButtonEl =\n",
              "        document.querySelector('#' + key + ' button');\n",
              "      quickchartButtonEl.disabled = true;  // To prevent multiple clicks.\n",
              "      quickchartButtonEl.classList.add('colab-df-spinner');\n",
              "      try {\n",
              "        const charts = await google.colab.kernel.invokeFunction(\n",
              "            'suggestCharts', [key], {});\n",
              "      } catch (error) {\n",
              "        console.error('Error during call to suggestCharts:', error);\n",
              "      }\n",
              "      quickchartButtonEl.classList.remove('colab-df-spinner');\n",
              "      quickchartButtonEl.classList.add('colab-df-quickchart-complete');\n",
              "    }\n",
              "    (() => {\n",
              "      let quickchartButtonEl =\n",
              "        document.querySelector('#df-3f0ef3c1-f9fa-4f81-a9c4-981c4dd124b0 button');\n",
              "      quickchartButtonEl.style.display =\n",
              "        google.colab.kernel.accessAllowed ? 'block' : 'none';\n",
              "    })();\n",
              "  </script>\n",
              "</div>\n",
              "\n",
              "    </div>\n",
              "  </div>\n"
            ],
            "application/vnd.google.colaboratory.intrinsic+json": {
              "type": "dataframe",
              "variable_name": "data",
              "summary": "{\n  \"name\": \"data\",\n  \"rows\": 507,\n  \"fields\": [\n    {\n      \"column\": \"K&A\",\n      \"properties\": {\n        \"dtype\": \"number\",\n        \"std\": 0.034681311961515957,\n        \"min\": 0.0,\n        \"max\": 0.1923151940706066,\n        \"num_unique_values\": 284,\n        \"samples\": [\n          0.017619140498017,\n          0.0044210389441518,\n          0.0265262336649112\n        ],\n        \"semantic_type\": \"\",\n        \"description\": \"\"\n      }\n    },\n    {\n      \"column\": \"DD\",\n      \"properties\": {\n        \"dtype\": \"number\",\n        \"std\": 0.042622633522729915,\n        \"min\": 0.0,\n        \"max\": 0.2080031695721077,\n        \"num_unique_values\": 148,\n        \"samples\": [\n          0.0530903328050713,\n          0.0122820919175911,\n          0.0998415213946117\n        ],\n        \"semantic_type\": \"\",\n        \"description\": \"\"\n      }\n    },\n    {\n      \"column\": \"AoW\",\n      \"properties\": {\n        \"dtype\": \"number\",\n        \"std\": 0.05909368605978346,\n        \"min\": 0.0,\n        \"max\": 0.3303709688278462,\n        \"num_unique_values\": 301,\n        \"samples\": [\n          0.1815794788931529,\n          0.1174173567629435,\n          0.0331246212886285\n        ],\n        \"semantic_type\": \"\",\n        \"description\": \"\"\n      }\n    },\n    {\n      \"column\": \"AoM\",\n      \"properties\": {\n        \"dtype\": \"number\",\n        \"std\": 0.014001647376636138,\n        \"min\": 0.0,\n        \"max\": 0.0723837826363829,\n        \"num_unique_values\": 164,\n        \"samples\": [\n          0.0538102313733814,\n          0.0184674166843557,\n          0.0168753980046699\n        ],\n        \"semantic_type\": \"\",\n        \"description\": \"\"\n      }\n    },\n    {\n      \"column\": \"DV\",\n      \"properties\": {\n        \"dtype\": \"number\",\n        \"std\": 0.06401778996445008,\n        \"min\": 0.0,\n        \"max\": 0.3509751696881175,\n        \"num_unique_values\": 272,\n        \"samples\": [\n          0.025259902053441,\n          0.1076982558639058,\n          0.0891399604777042\n        ],\n        \"semantic_type\": \"\",\n        \"description\": \"\"\n      }\n    },\n    {\n      \"column\": \"WT\",\n      \"properties\": {\n        \"dtype\": \"number\",\n        \"std\": 0.01061114595680725,\n        \"min\": 0.0,\n        \"max\": 0.0655737704918032,\n        \"num_unique_values\": 28,\n        \"samples\": [\n          0.0145719489981785,\n          0.0382513661202185,\n          0.0109289617486338\n        ],\n        \"semantic_type\": \"\",\n        \"description\": \"\"\n      }\n    },\n    {\n      \"column\": \"Cluster\",\n      \"properties\": {\n        \"dtype\": \"number\",\n        \"std\": 0,\n        \"min\": 0,\n        \"max\": 1,\n        \"num_unique_values\": 2,\n        \"samples\": [\n          1,\n          0\n        ],\n        \"semantic_type\": \"\",\n        \"description\": \"\"\n      }\n    }\n  ]\n}"
            }
          },
          "metadata": {},
          "execution_count": 4
        }
      ]
    },
    {
      "cell_type": "code",
      "source": [
        "print(\"\\nInformasi dataset:\")\n",
        "data.info()"
      ],
      "metadata": {
        "colab": {
          "base_uri": "https://localhost:8080/"
        },
        "id": "U7ukSJ1X8mRp",
        "outputId": "08c521df-b307-434f-e657-54b58f2f5b4b"
      },
      "execution_count": 5,
      "outputs": [
        {
          "output_type": "stream",
          "name": "stdout",
          "text": [
            "\n",
            "Informasi dataset:\n",
            "<class 'pandas.core.frame.DataFrame'>\n",
            "RangeIndex: 507 entries, 0 to 506\n",
            "Data columns (total 7 columns):\n",
            " #   Column   Non-Null Count  Dtype  \n",
            "---  ------   --------------  -----  \n",
            " 0   K&A      507 non-null    float64\n",
            " 1   DD       507 non-null    float64\n",
            " 2   AoW      507 non-null    float64\n",
            " 3   AoM      507 non-null    float64\n",
            " 4   DV       507 non-null    float64\n",
            " 5   WT       507 non-null    float64\n",
            " 6   Cluster  507 non-null    int64  \n",
            "dtypes: float64(6), int64(1)\n",
            "memory usage: 27.9 KB\n"
          ]
        }
      ]
    },
    {
      "cell_type": "code",
      "source": [
        "print(\"\\nMissing values per fitur:\")\n",
        "print(data.isnull().sum())"
      ],
      "metadata": {
        "colab": {
          "base_uri": "https://localhost:8080/"
        },
        "id": "Egc75cre8xvL",
        "outputId": "97f9c519-8e63-49a0-fafa-5c3ed0b34174"
      },
      "execution_count": 6,
      "outputs": [
        {
          "output_type": "stream",
          "name": "stdout",
          "text": [
            "\n",
            "Missing values per fitur:\n",
            "K&A        0\n",
            "DD         0\n",
            "AoW        0\n",
            "AoM        0\n",
            "DV         0\n",
            "WT         0\n",
            "Cluster    0\n",
            "dtype: int64\n"
          ]
        }
      ]
    },
    {
      "cell_type": "code",
      "source": [
        "data = data.drop(columns=['Cluster', 'AoW', 'DV', 'WT'])"
      ],
      "metadata": {
        "id": "L48JQFrN85E9"
      },
      "execution_count": 7,
      "outputs": []
    },
    {
      "cell_type": "markdown",
      "source": [
        "# **3. Data Splitting**"
      ],
      "metadata": {
        "id": "KkPem5eWL2UP"
      }
    },
    {
      "cell_type": "markdown",
      "source": [
        "Tahap Data Splitting bertujuan untuk memisahkan dataset menjadi dua bagian: data latih (training set) dan data uji (test set)."
      ],
      "metadata": {
        "id": "YYj1rl_JNI9Y"
      }
    },
    {
      "cell_type": "code",
      "source": [
        "# Buat instance MinMaxScaler\n",
        "scaler = MinMaxScaler()\n",
        "threshold1 = 0.5\n",
        "threshold2 = 0.75\n",
        "\n",
        "# Normalisasi semua kolom numerik\n",
        "numeric_columns = data.select_dtypes(include=['int64', 'float64']).columns\n",
        "data[numeric_columns] = scaler.fit_transform(data[numeric_columns])\n",
        "\n",
        "# Pisahkan fitur (X) dan target (y)\n",
        "X = data.drop(columns=['DD'])\n",
        "y = data['DD']\n",
        "\n",
        "# Split data menjadi set pelatihan dan set uji\n",
        "X_train, X_test, y_train, y_test = train_test_split(X, y, test_size=0.2, random_state=42)\n",
        "# Mengonversi Data Kontinu menjadi Diskrit\n",
        "y_train = np.where(y_train < threshold1, 0, np.where(y_train < threshold2, 1, 2))\n",
        "y_test = np.where(y_test < threshold1, 0, np.where(y_test < threshold2, 1, 2))\n",
        "\n",
        "# Tampilkan bentuk set pelatihan dan set uji untuk memastikan split\n",
        "print(f\"Training set shape: X_train={X_train.shape}, y_train={y_train.shape}\")\n",
        "print(f\"Test set shape: X_test={X_test.shape}, y_test={y_test.shape}\")"
      ],
      "metadata": {
        "id": "OubAW-7ONKVj",
        "colab": {
          "base_uri": "https://localhost:8080/"
        },
        "outputId": "c97b8c08-2f90-4798-cfbc-6f827a9d65c9"
      },
      "execution_count": 8,
      "outputs": [
        {
          "output_type": "stream",
          "name": "stdout",
          "text": [
            "Training set shape: X_train=(405, 2), y_train=(405,)\n",
            "Test set shape: X_test=(102, 2), y_test=(102,)\n"
          ]
        }
      ]
    },
    {
      "cell_type": "markdown",
      "source": [
        "# **4. Membangun Model Klasifikasi**\n"
      ],
      "metadata": {
        "id": "IVPbB03CMhTT"
      }
    },
    {
      "cell_type": "markdown",
      "source": [
        "## **a. Membangun Model Klasifikasi**"
      ],
      "metadata": {
        "id": "Ned1pL9zMmBK"
      }
    },
    {
      "cell_type": "markdown",
      "source": [
        "Setelah memilih algoritma klasifikasi yang sesuai, langkah selanjutnya adalah melatih model menggunakan data latih.\n",
        "\n",
        "Berikut adalah rekomendasi tahapannya.\n",
        "1. Pilih algoritma klasifikasi yang sesuai, seperti Logistic Regression, Decision Tree, Random Forest, atau K-Nearest Neighbors (KNN).\n",
        "2. Latih model menggunakan data latih."
      ],
      "metadata": {
        "id": "WAWzPOE4Nkti"
      }
    },
    {
      "cell_type": "code",
      "source": [
        "# Bagian 1: Pelatihan Model\n",
        "# Definisikan setiap klasifikasi secara terpisah\n",
        "knn = KNeighborsClassifier().fit(X_train, y_train)\n",
        "dt = DecisionTreeClassifier().fit(X_train, y_train)\n",
        "rf = RandomForestClassifier().fit(X_train, y_train)\n",
        "svm = SVC().fit(X_train, y_train)\n",
        "nb = GaussianNB().fit(X_train, y_train)\n",
        "\n",
        "print(\"Model training selesai.\")"
      ],
      "metadata": {
        "id": "4JYxBe87NLDk",
        "colab": {
          "base_uri": "https://localhost:8080/"
        },
        "outputId": "b02bbd50-bdc1-4865-b9ea-26fd903a2497"
      },
      "execution_count": 9,
      "outputs": [
        {
          "output_type": "stream",
          "name": "stdout",
          "text": [
            "Model training selesai.\n"
          ]
        }
      ]
    },
    {
      "cell_type": "markdown",
      "source": [
        "Tulis narasi atau penjelasan algoritma yang Anda gunakan."
      ],
      "metadata": {
        "id": "seYoHNY3XU1y"
      }
    },
    {
      "cell_type": "markdown",
      "source": [
        "## **b. Evaluasi Model Klasifikasi**"
      ],
      "metadata": {
        "id": "ergzChZFEL-O"
      }
    },
    {
      "cell_type": "markdown",
      "source": [
        "Berikut adalah **rekomendasi** tahapannya.\n",
        "1. Lakukan prediksi menggunakan data uji.\n",
        "2. Hitung metrik evaluasi seperti Accuracy dan F1-Score (Opsional: Precision dan Recall).\n",
        "3. Buat confusion matrix untuk melihat detail prediksi benar dan salah."
      ],
      "metadata": {
        "id": "zOm68u-7NpLT"
      }
    },
    {
      "cell_type": "code",
      "source": [
        "def evaluate_model(model, X_test, y_test):\n",
        "    y_pred = model.predict(X_test)\n",
        "    return {\n",
        "        'Accuracy': accuracy_score(y_test, y_pred),\n",
        "        'Precision': precision_score(y_test, y_pred, average='weighted'),\n",
        "        'Recall': recall_score(y_test, y_pred, average='weighted'),\n",
        "        'F1-Score': f1_score(y_test, y_pred, average='weighted')\n",
        "    }\n",
        "\n",
        "# Evaluate each model and print F1 scores\n",
        "results = {\n",
        "    'K-Nearest Neighbors (KNN)': evaluate_model(knn, X_test, y_test),\n",
        "    'Decision Tree (DT)': evaluate_model(dt, X_test, y_test),\n",
        "    'Random Forest (RF)': evaluate_model(rf, X_test, y_test),\n",
        "    'Support Vector Machine (SVM)': evaluate_model(svm, X_test, y_test),\n",
        "    'Naive Bayes (NB)': evaluate_model(nb, X_test, y_test)\n",
        "}\n",
        "\n",
        "# Buat DataFrame untuk meringkas hasil\n",
        "summary_df = pd.DataFrame(columns=['Model', 'Accuracy', 'Precision', 'Recall', 'F1-Score'])\n",
        "\n",
        "# Isi DataFrame dengan hasil\n",
        "rows = []\n",
        "for model_name, metrics in results.items():\n",
        "    rows.append({\n",
        "        'Model': model_name,\n",
        "        'Accuracy': metrics['Accuracy'],\n",
        "        'Precision': metrics['Precision'],\n",
        "        'Recall': metrics['Recall'],\n",
        "        'F1-Score': metrics['F1-Score']\n",
        "    })\n",
        "\n",
        "# Konversi daftar kamus ke DataFrame\n",
        "summary_df = pd.DataFrame(rows)\n",
        "\n",
        "# Tampilkan DataFrame\n",
        "print(summary_df)"
      ],
      "metadata": {
        "id": "tMq4QAssNLip",
        "colab": {
          "base_uri": "https://localhost:8080/"
        },
        "outputId": "c3ef526f-964f-4144-ddba-590eaa1500f1"
      },
      "execution_count": 10,
      "outputs": [
        {
          "output_type": "stream",
          "name": "stdout",
          "text": [
            "                          Model  Accuracy  Precision    Recall  F1-Score\n",
            "0     K-Nearest Neighbors (KNN)  0.921569   0.908173  0.921569  0.891323\n",
            "1            Decision Tree (DT)  0.843137   0.869690  0.843137  0.856145\n",
            "2            Random Forest (RF)  0.921569   0.901694  0.921569  0.905800\n",
            "3  Support Vector Machine (SVM)  0.911765   0.831315  0.911765  0.869683\n",
            "4              Naive Bayes (NB)  0.882353   0.828877  0.882353  0.854779\n"
          ]
        },
        {
          "output_type": "stream",
          "name": "stderr",
          "text": [
            "/usr/local/lib/python3.10/dist-packages/sklearn/metrics/_classification.py:1531: UndefinedMetricWarning: Precision is ill-defined and being set to 0.0 in labels with no predicted samples. Use `zero_division` parameter to control this behavior.\n",
            "  _warn_prf(average, modifier, f\"{metric.capitalize()} is\", len(result))\n",
            "/usr/local/lib/python3.10/dist-packages/sklearn/metrics/_classification.py:1531: UndefinedMetricWarning: Precision is ill-defined and being set to 0.0 in labels with no predicted samples. Use `zero_division` parameter to control this behavior.\n",
            "  _warn_prf(average, modifier, f\"{metric.capitalize()} is\", len(result))\n",
            "/usr/local/lib/python3.10/dist-packages/sklearn/metrics/_classification.py:1531: UndefinedMetricWarning: Precision is ill-defined and being set to 0.0 in labels with no predicted samples. Use `zero_division` parameter to control this behavior.\n",
            "  _warn_prf(average, modifier, f\"{metric.capitalize()} is\", len(result))\n"
          ]
        }
      ]
    },
    {
      "cell_type": "markdown",
      "source": [
        "![gambar_2024-11-10_100127845.png](data:image/png;base64,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)"
      ],
      "metadata": {
        "id": "H4_9OwrsXZlz"
      }
    },
    {
      "cell_type": "markdown",
      "source": [
        "Algoritma KNN yang terbaik diantara algoritma lainnya."
      ],
      "metadata": {
        "id": "BJ_b7A1bBSTJ"
      }
    },
    {
      "cell_type": "code",
      "source": [
        "# Function to evaluate model and display confusion matrix\n",
        "def evaluate_model_with_confusion(model, X_test, y_test):\n",
        "    y_pred = model.predict(X_test)\n",
        "    cm = confusion_matrix(y_test, y_pred)\n",
        "\n",
        "    # Plot confusion matrix\n",
        "    plt.figure(figsize=(6, 4))\n",
        "    sns.heatmap(cm, annot=True, fmt=\"d\", cmap=\"Blues\", cbar=False)\n",
        "    plt.xlabel('Predicted Labels')\n",
        "    plt.ylabel('True Labels')\n",
        "    plt.title(f'Confusion Matrix for {model.__class__.__name__}')\n",
        "    plt.show()\n",
        "\n",
        "# Evaluate each model and display confusion matrices\n",
        "models = {\n",
        "    'K-Nearest Neighbors (KNN)': knn,\n",
        "    'Decision Tree (DT)': dt,\n",
        "    'Random Forest (RF)': rf,\n",
        "    'Support Vector Machine (SVM)': svm,\n",
        "    'Naive Bayes (NB)': nb\n",
        "}\n",
        "\n",
        "for model_name, model in models.items():\n",
        "    print(f\"Confusion Matrix for {model_name}:\")\n",
        "    evaluate_model_with_confusion(model, X_test, y_test)"
      ],
      "metadata": {
        "colab": {
          "base_uri": "https://localhost:8080/",
          "height": 1000
        },
        "id": "htFo4DFXBiMS",
        "outputId": "e8945394-c4c8-4e2b-e5d9-d9a9e528f344"
      },
      "execution_count": 11,
      "outputs": [
        {
          "output_type": "stream",
          "name": "stdout",
          "text": [
            "Confusion Matrix for K-Nearest Neighbors (KNN):\n"
          ]
        },
        {
          "output_type": "display_data",
          "data": {
            "text/plain": [
              "<Figure size 600x400 with 1 Axes>"
            ],
            "image/png": "[encoded data removed]"
          },
          "metadata": {}
        },
        {
          "output_type": "stream",
          "name": "stdout",
          "text": [
            "Confusion Matrix for Decision Tree (DT):\n"
          ]
        },
        {
          "output_type": "display_data",
          "data": {
            "text/plain": [
              "<Figure size 600x400 with 1 Axes>"
            ],
            "image/png": "[encoded data removed]"
          },
          "metadata": {}
        },
        {
          "output_type": "stream",
          "name": "stdout",
          "text": [
            "Confusion Matrix for Random Forest (RF):\n"
          ]
        },
        {
          "output_type": "display_data",
          "data": {
            "text/plain": [
              "<Figure size 600x400 with 1 Axes>"
            ],
            "image/png": "[encoded data removed]"
          },
          "metadata": {}
        },
        {
          "output_type": "stream",
          "name": "stdout",
          "text": [
            "Confusion Matrix for Support Vector Machine (SVM):\n"
          ]
        },
        {
          "output_type": "display_data",
          "data": {
            "text/plain": [
              "<Figure size 600x400 with 1 Axes>"
            ],
            "image/png": "[encoded data removed]"
          },
          "metadata": {}
        },
        {
          "output_type": "stream",
          "name": "stdout",
          "text": [
            "Confusion Matrix for Naive Bayes (NB):\n"
          ]
        },
        {
          "output_type": "display_data",
          "data": {
            "text/plain": [
              "<Figure size 600x400 with 1 Axes>"
            ],
            "image/png": "[encoded data removed]"
          },
          "metadata": {}
        }
      ]
    },
    {
      "cell_type": "markdown",
      "source": [
        "## **c. Tuning Model Klasifikasi (Optional)**"
      ],
      "metadata": {
        "id": "ph9yIYDXEPuB"
      }
    },
    {
      "cell_type": "markdown",
      "source": [
        "Gunakan GridSearchCV, RandomizedSearchCV, atau metode lainnya untuk mencari kombinasi hyperparameter terbaik"
      ],
      "metadata": {
        "id": "-Bikx3LINv5e"
      }
    },
    {
      "cell_type": "code",
      "source": [
        "# Definisikan ruang pencarian untuk Bayesian Optimization\n",
        "param_space_knn = {\n",
        "    'n_neighbors': (1, 5),              # Number of neighbors to consider\n",
        "    'weights': ['distance', 'uniform'],  # Weight function used in prediction\n",
        "    'metric': ['minkowski', 'manhattan', 'euclidean']  # Distance metric\n",
        "}\n",
        "\n",
        "# Inisialisasi BayesSearchCV\n",
        "knn = KNeighborsClassifier()\n",
        "bayes_search_knn = BayesSearchCV(estimator=knn, search_spaces=param_space_knn, n_iter=24, cv=6, n_jobs=-1, verbose=3, random_state=24)\n",
        "bayes_search_knn.fit(X_train, y_train)\n",
        "\n",
        "# Output hasil terbaik\n",
        "print(f\"Best parameters (Bayesian Optimization for KNN): {bayes_search_knn.best_params_}\")\n",
        "best_knn_bayes = bayes_search_knn.best_estimator_\n",
        "\n",
        "# Evaluasi performa model pada test set\n",
        "knn_bayes_search_score = best_knn_bayes.score(X_test, y_test)\n",
        "print(f\"Accuracy after Bayesian Optimization (KNN): {knn_bayes_search_score:.2f}\")"
      ],
      "metadata": {
        "id": "winbFzb8NL95",
        "colab": {
          "base_uri": "https://localhost:8080/"
        },
        "outputId": "4e96bf6e-8d7e-45df-f0d0-2ca65b093b5f"
      },
      "execution_count": 20,
      "outputs": [
        {
          "output_type": "stream",
          "name": "stdout",
          "text": [
            "Fitting 6 folds for each of 1 candidates, totalling 6 fits\n",
            "Fitting 6 folds for each of 1 candidates, totalling 6 fits\n",
            "Fitting 6 folds for each of 1 candidates, totalling 6 fits\n",
            "Fitting 6 folds for each of 1 candidates, totalling 6 fits\n",
            "Fitting 6 folds for each of 1 candidates, totalling 6 fits\n",
            "Fitting 6 folds for each of 1 candidates, totalling 6 fits\n",
            "Fitting 6 folds for each of 1 candidates, totalling 6 fits\n",
            "Fitting 6 folds for each of 1 candidates, totalling 6 fits\n",
            "Fitting 6 folds for each of 1 candidates, totalling 6 fits\n",
            "Fitting 6 folds for each of 1 candidates, totalling 6 fits\n",
            "Fitting 6 folds for each of 1 candidates, totalling 6 fits\n",
            "Fitting 6 folds for each of 1 candidates, totalling 6 fits\n",
            "Fitting 6 folds for each of 1 candidates, totalling 6 fits\n",
            "Fitting 6 folds for each of 1 candidates, totalling 6 fits\n",
            "Fitting 6 folds for each of 1 candidates, totalling 6 fits\n",
            "Fitting 6 folds for each of 1 candidates, totalling 6 fits\n",
            "Fitting 6 folds for each of 1 candidates, totalling 6 fits\n",
            "Fitting 6 folds for each of 1 candidates, totalling 6 fits\n",
            "Fitting 6 folds for each of 1 candidates, totalling 6 fits\n",
            "Fitting 6 folds for each of 1 candidates, totalling 6 fits\n",
            "Fitting 6 folds for each of 1 candidates, totalling 6 fits\n",
            "Fitting 6 folds for each of 1 candidates, totalling 6 fits\n",
            "Fitting 6 folds for each of 1 candidates, totalling 6 fits\n"
          ]
        },
        {
          "output_type": "stream",
          "name": "stderr",
          "text": [
            "/usr/local/lib/python3.10/dist-packages/skopt/optimizer/optimizer.py:517: UserWarning: The objective has been evaluated at point ['minkowski', 2, 'uniform'] before, using random point ['euclidean', 1, 'distance']\n",
            "  warnings.warn(\n"
          ]
        },
        {
          "output_type": "stream",
          "name": "stdout",
          "text": [
            "Fitting 6 folds for each of 1 candidates, totalling 6 fits\n",
            "Best parameters (Bayesian Optimization for KNN): OrderedDict([('metric', 'euclidean'), ('n_neighbors', 4), ('weights', 'uniform')])\n",
            "Accuracy after Bayesian Optimization (KNN): 0.93\n"
          ]
        }
      ]
    },
    {
      "cell_type": "markdown",
      "source": [
        "## **d. Evaluasi Model Klasifikasi setelah Tuning (Optional)**"
      ],
      "metadata": {
        "id": "hE7pqlEPEYzI"
      }
    },
    {
      "cell_type": "markdown",
      "source": [
        "Berikut adalah rekomendasi tahapannya.\n",
        "1. Gunakan model dengan hyperparameter terbaik.\n",
        "2. Hitung ulang metrik evaluasi untuk melihat apakah ada peningkatan performa."
      ],
      "metadata": {
        "id": "feaPESoeN0zz"
      }
    },
    {
      "cell_type": "code",
      "source": [
        "# Output the best parameters and best estimator\n",
        "print(f\"Best parameters (Bayesian Optimization for KNN): {bayes_search_knn.best_params_}\")\n",
        "best_knn_bayes = bayes_search_knn.best_estimator_\n",
        "\n",
        "# Evaluate the optimized KNN model on the test set\n",
        "knn_bayes_search_score = best_knn_bayes.score(X_test, y_test)\n",
        "print(f\"Accuracy after Bayesian Optimization (KNN): {knn_bayes_search_score:.2f}\")"
      ],
      "metadata": {
        "id": "HTXZRvEeNMb1",
        "colab": {
          "base_uri": "https://localhost:8080/"
        },
        "outputId": "f34aee02-4fea-461b-ee7d-b9d768281a5c"
      },
      "execution_count": 21,
      "outputs": [
        {
          "output_type": "stream",
          "name": "stdout",
          "text": [
            "Best parameters (Bayesian Optimization for KNN): OrderedDict([('metric', 'euclidean'), ('n_neighbors', 4), ('weights', 'uniform')])\n",
            "Accuracy after Bayesian Optimization (KNN): 0.93\n"
          ]
        }
      ]
    },
    {
      "cell_type": "markdown",
      "source": [
        "Akurasi Model Sebelum Tuning:\n",
        "\n",
        "![gambar_2024-11-11_214357483.png](data:image/png;base64,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)"
      ],
      "metadata": {
        "id": "ag-iGbh-rh3x"
      }
    },
    {
      "cell_type": "code",
      "source": [
        "# Evaluate each model and print F1 scores\n",
        "results = {\n",
        "    'K-Nearest Neighbors (KNN) Tuned': evaluate_model(bayes_search_knn, X_test, y_test),\n",
        "}\n",
        "\n",
        "summary_df = pd.DataFrame(rows)\n",
        "\n",
        "print(\"Akurasi Model Setelah Tuning\")\n",
        "print(summary_df)"
      ],
      "metadata": {
        "colab": {
          "base_uri": "https://localhost:8080/"
        },
        "id": "L0puLlQVpu57",
        "outputId": "75f8b6d9-8410-439d-cdf3-8f47050d67ee"
      },
      "execution_count": 29,
      "outputs": [
        {
          "output_type": "stream",
          "name": "stdout",
          "text": [
            "Akurasi Model Setelah Tuning\n",
            "                             Model  Accuracy  Precision    Recall  F1-Score\n",
            "0  K-Nearest Neighbors (KNN) Tuned  0.931373   0.936176  0.931373  0.908924\n"
          ]
        }
      ]
    },
    {
      "cell_type": "code",
      "source": [
        "evaluate_model_with_confusion(bayes_search_knn, X_test, y_test)"
      ],
      "metadata": {
        "colab": {
          "base_uri": "https://localhost:8080/",
          "height": 410
        },
        "id": "CAZfGbtdqrp8",
        "outputId": "3d0aa336-476a-4e19-cec0-3d46c7322f16"
      },
      "execution_count": 24,
      "outputs": [
        {
          "output_type": "display_data",
          "data": {
            "text/plain": [
              "<Figure size 600x400 with 1 Axes>"
            ],
            "image/png": "[encoded data removed]"
          },
          "metadata": {}
        }
      ]
    },
    {
      "cell_type": "markdown",
      "source": [
        "## **e. Analisis Hasil Evaluasi Model Klasifikasi**"
      ],
      "metadata": {
        "id": "ZRsOdm4uEgAW"
      }
    },
    {
      "cell_type": "markdown",
      "source": [
        "Berikut adalah **rekomendasi** tahapannya.\n",
        "\n",
        "1. Perbandingan Hasil Sebelum dan Sesudah Tuning\n",
        "Peningkatan Akurasi KNN: Setelah dilakukan optimasi Bayesian, akurasi model K-Nearest Neighbors (KNN) meningkat dari sekitar 0,9217 menjadi 0,9314. Hal ini menunjukkan adanya dampak positif dari proses tuning.\n",
        "Peningkatan Precision, Recall, dan F1-Score: Precision, recall, dan F1-score model KNN yang telah dituning juga mengalami peningkatan, yang menunjukkan peningkatan efektivitas model dalam memprediksi setiap kelas dengan benar.\n",
        "\n",
        "2. Kelemahan Model\n",
        "Performa Spesifik Kelas: Jika memungkinkan, disarankan untuk memeriksa precision dan recall untuk setiap kelas secara individual (melalui confusion matrix) guna mengidentifikasi apakah terdapat kelas-kelas tertentu yang sulit diprediksi oleh model. Nilai precision atau recall yang rendah pada kelas tertentu dapat mengindikasikan bahwa model mengalami kesulitan dalam membedakan kelas-kelas tersebut.\n",
        "Overfitting atau Underfitting: Jika model yang telah dituning menunjukkan performa yang secara signifikan lebih baik pada data pelatihan dibandingkan data uji, hal ini mungkin menandakan terjadinya overfitting. Sebaliknya, jika akurasi pada data pelatihan dan data uji sama-sama rendah, model mungkin mengalami underfitting.\n",
        "\n",
        "3. Rekomendasi Langkah Selanjutnya\n",
        "Mengumpulkan Data Tambahan: Jika model menunjukkan performa yang tidak konsisten antar kelas atau data yang digunakan tidak seimbang, pengumpulan sampel tambahan, terutama untuk kelas yang kurang terwakili, dapat meningkatkan performa model.\n",
        "Mencoba Algoritme Lain: Jika KNN belum memberikan hasil yang memuaskan, dapat dipertimbangkan untuk mencoba algoritme lain, seperti gradient boosting atau support vector machines (SVM) dengan optimasi hyperparameter. Tuning Hyperparameter Lebih Lanjut: Eksperimen dengan metode tuning hyperparameter lain atau optimasi terhadap parameter tambahan mungkin dapat menghasilkan hasil yang lebih baik."
      ],
      "metadata": {
        "id": "Hm3BhSi6N4_l"
      }
    }
  ]
}